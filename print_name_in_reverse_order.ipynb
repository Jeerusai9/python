{
  "nbformat": 4,
  "nbformat_minor": 0,
  "metadata": {
    "colab": {
      "name": "print name in reverse order",
      "provenance": [],
      "authorship_tag": "ABX9TyO0j1jmGn/NMxdl3Qq7p8lg",
      "include_colab_link": true
    },
    "kernelspec": {
      "name": "python3",
      "display_name": "Python 3"
    },
    "language_info": {
      "name": "python"
    }
  },
  "cells": [
    {
      "cell_type": "markdown",
      "metadata": {
        "id": "view-in-github",
        "colab_type": "text"
      },
      "source": [
        "<a href=\"https://colab.research.google.com/github/Jeerusai9/python/blob/main/print_name_in_reverse_order.ipynb\" target=\"_parent\"><img src=\"https://colab.research.google.com/assets/colab-badge.svg\" alt=\"Open In Colab\"/></a>"
      ]
    },
    {
      "cell_type": "code",
      "metadata": {
        "colab": {
          "base_uri": "https://localhost:8080/"
        },
        "id": "Wpkla9TJGBUO",
        "outputId": "aa1a37ce-6e30-4651-cbd0-cd8400164539"
      },
      "source": [
        "fname = input(\"input your first name :\")\n",
        "lname = input(\"input your last  name :\")\n",
        "print(\"hello  \" + lname+\"\"+fname)"
      ],
      "execution_count": 2,
      "outputs": [
        {
          "output_type": "stream",
          "name": "stdout",
          "text": [
            "input your first name :sai\n",
            "input your last  name :jeeru\n",
            "hello  jeerusai\n"
          ]
        }
      ]
    }
  ]
}