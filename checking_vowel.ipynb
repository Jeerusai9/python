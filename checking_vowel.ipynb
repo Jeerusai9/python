{
  "nbformat": 4,
  "nbformat_minor": 0,
  "metadata": {
    "colab": {
      "name": "checking vowel",
      "provenance": [],
      "authorship_tag": "ABX9TyPXl0F40ShUrhGk5ngj91jC",
      "include_colab_link": true
    },
    "kernelspec": {
      "name": "python3",
      "display_name": "Python 3"
    },
    "language_info": {
      "name": "python"
    }
  },
  "cells": [
    {
      "cell_type": "markdown",
      "metadata": {
        "id": "view-in-github",
        "colab_type": "text"
      },
      "source": [
        "<a href=\"https://colab.research.google.com/github/Jeerusai9/python/blob/main/checking_vowel.ipynb\" target=\"_parent\"><img src=\"https://colab.research.google.com/assets/colab-badge.svg\" alt=\"Open In Colab\"/></a>"
      ]
    },
    {
      "cell_type": "code",
      "metadata": {
        "colab": {
          "base_uri": "https://localhost:8080/"
        },
        "id": "v0HaleYY8ZYX",
        "outputId": "f5d401b3-c2ce-41d6-c9a4-7ac9c9b565c8"
      },
      "source": [
        "word= input(\"enter any word\")\n",
        "for ch in word:\n",
        "  if ch in 'aeiouAEIOU':\n",
        "    print(f'{word}contains vowels')\n",
        "    break\n",
        "else:print(f'{word}contains no vowels')"
      ],
      "execution_count": 6,
      "outputs": [
        {
          "output_type": "stream",
          "name": "stdout",
          "text": [
            "enter any wordsaikrishna\n",
            "saikrishnacontains vowels\n"
          ]
        }
      ]
    }
  ]
}