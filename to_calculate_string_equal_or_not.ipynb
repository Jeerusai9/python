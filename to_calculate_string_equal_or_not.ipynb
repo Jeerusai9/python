{
  "nbformat": 4,
  "nbformat_minor": 0,
  "metadata": {
    "colab": {
      "name": "to calculate string equal or not",
      "provenance": [],
      "authorship_tag": "ABX9TyMJMeELjXZDjnThZMp5KPFs",
      "include_colab_link": true
    },
    "kernelspec": {
      "name": "python3",
      "display_name": "Python 3"
    },
    "language_info": {
      "name": "python"
    }
  },
  "cells": [
    {
      "cell_type": "markdown",
      "metadata": {
        "id": "view-in-github",
        "colab_type": "text"
      },
      "source": [
        "<a href=\"https://colab.research.google.com/github/Jeerusai9/python/blob/main/to_calculate_string_equal_or_not.ipynb\" target=\"_parent\"><img src=\"https://colab.research.google.com/assets/colab-badge.svg\" alt=\"Open In Colab\"/></a>"
      ]
    },
    {
      "cell_type": "code",
      "metadata": {
        "colab": {
          "base_uri": "https://localhost:8080/"
        },
        "id": "B2Hq0K8SETLk",
        "outputId": "e475a2b7-7da0-4f9b-a9cb-419c7ec58ad5"
      },
      "source": [
        "str1=input('enter a string:')\n",
        "str2=input('enter a string:')\n",
        "l1=len(str1)\n",
        "l2=len(str2)\n",
        "if l1!=l2:\n",
        "  print(f'ln({str1})={l1}NOT EQUAL TO len({str2})')\n",
        "else:\n",
        "  str=''\n",
        "  for i in range(l1):\n",
        "      str+=str2[i]+str1[i]\n",
        "      print(str1,str2,str)"
      ],
      "execution_count": 5,
      "outputs": [
        {
          "output_type": "stream",
          "name": "stdout",
          "text": [
            "enter a string:dggge\n",
            "enter a string:dglgp[e\n",
            "ln(dggge)=5NOT EQUAL TO len(dglgp[e)\n"
          ]
        }
      ]
    }
  ]
}