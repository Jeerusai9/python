{
  "nbformat": 4,
  "nbformat_minor": 0,
  "metadata": {
    "colab": {
      "name": "f name from the user and print extension of it",
      "provenance": [],
      "authorship_tag": "ABX9TyPybOuMY4liCR7mDGyYYVzy",
      "include_colab_link": true
    },
    "kernelspec": {
      "name": "python3",
      "display_name": "Python 3"
    },
    "language_info": {
      "name": "python"
    }
  },
  "cells": [
    {
      "cell_type": "markdown",
      "metadata": {
        "id": "view-in-github",
        "colab_type": "text"
      },
      "source": [
        "<a href=\"https://colab.research.google.com/github/Jeerusai9/python/blob/main/f_name_from_the_user_and_print_extension_of_it.ipynb\" target=\"_parent\"><img src=\"https://colab.research.google.com/assets/colab-badge.svg\" alt=\"Open In Colab\"/></a>"
      ]
    },
    {
      "cell_type": "code",
      "metadata": {
        "colab": {
          "base_uri": "https://localhost:8080/"
        },
        "id": "VSisYJlGHe0G",
        "outputId": "97d4e72d-6575-464b-fd96-0227e66ebc7f"
      },
      "source": [
        "filename = input(\"input the filename : \")\n",
        "f_extns = filename.split(\".\")\n",
        "print(\"the extension of the file is :\" +repr(f_extns[-1]))"
      ],
      "execution_count": 5,
      "outputs": [
        {
          "output_type": "stream",
          "name": "stdout",
          "text": [
            "input the filename : abc.python\n",
            "the extension of the file is :'python'\n"
          ]
        }
      ]
    }
  ]
}