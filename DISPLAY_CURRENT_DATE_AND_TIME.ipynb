{
  "nbformat": 4,
  "nbformat_minor": 0,
  "metadata": {
    "colab": {
      "name": "DISPLAY CURRENT DATE AND TIME",
      "provenance": [],
      "authorship_tag": "ABX9TyMo0Tl3RH8eMXpVcm/0jKgr",
      "include_colab_link": true
    },
    "kernelspec": {
      "name": "python3",
      "display_name": "Python 3"
    },
    "language_info": {
      "name": "python"
    }
  },
  "cells": [
    {
      "cell_type": "markdown",
      "metadata": {
        "id": "view-in-github",
        "colab_type": "text"
      },
      "source": [
        "<a href=\"https://colab.research.google.com/github/Jeerusai9/python/blob/main/DISPLAY_CURRENT_DATE_AND_TIME.ipynb\" target=\"_parent\"><img src=\"https://colab.research.google.com/assets/colab-badge.svg\" alt=\"Open In Colab\"/></a>"
      ]
    },
    {
      "cell_type": "code",
      "metadata": {
        "colab": {
          "base_uri": "https://localhost:8080/"
        },
        "id": "7wtufpqxkA9I",
        "outputId": "c531e923-0e34-4d10-b7c1-187ecad911a4"
      },
      "source": [
        "import datetime\n",
        "now = datetime.datetime.now()\n",
        "print('current date and time :')\n",
        "print(now.strftime(\"%Y-%m-%d %H:%M:%S\"))\n"
      ],
      "execution_count": 5,
      "outputs": [
        {
          "output_type": "stream",
          "name": "stdout",
          "text": [
            "current date and time :\n",
            "2021-11-05 14:58:57\n"
          ]
        }
      ]
    }
  ]
}