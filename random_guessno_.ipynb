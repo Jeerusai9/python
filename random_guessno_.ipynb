{
  "nbformat": 4,
  "nbformat_minor": 0,
  "metadata": {
    "colab": {
      "name": "random guessno.",
      "provenance": [],
      "authorship_tag": "ABX9TyNT55OA62lzS9bqknm8r6T3",
      "include_colab_link": true
    },
    "kernelspec": {
      "name": "python3",
      "display_name": "Python 3"
    },
    "language_info": {
      "name": "python"
    }
  },
  "cells": [
    {
      "cell_type": "markdown",
      "metadata": {
        "id": "view-in-github",
        "colab_type": "text"
      },
      "source": [
        "<a href=\"https://colab.research.google.com/github/Jeerusai9/python/blob/main/random_guessno_.ipynb\" target=\"_parent\"><img src=\"https://colab.research.google.com/assets/colab-badge.svg\" alt=\"Open In Colab\"/></a>"
      ]
    },
    {
      "cell_type": "code",
      "metadata": {
        "colab": {
          "base_uri": "https://localhost:8080/"
        },
        "id": "eF-SI86jyvV2",
        "outputId": "a1cb43c0-516e-407c-b855-635cde776f71"
      },
      "source": [
        "import random\n",
        "system_guess = random.randint(1,10)\n",
        "user_guess = int(input('guess the number:'))\n",
        "print(f'user_guess={user_guess}and system_guess={system_guess}')\n",
        "if (user_guess==system_guess):\n",
        "  print('yes its matched')\n",
        "else:\n",
        "  print('its mismatched')"
      ],
      "execution_count": 14,
      "outputs": [
        {
          "output_type": "stream",
          "name": "stdout",
          "text": [
            "guess the number:1\n",
            "user_guess=1and system_guess=7\n",
            "its mismatched\n"
          ]
        }
      ]
    }
  ]
}