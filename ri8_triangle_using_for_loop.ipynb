{
  "nbformat": 4,
  "nbformat_minor": 0,
  "metadata": {
    "colab": {
      "name": "ri8 triangle using for loop",
      "provenance": [],
      "authorship_tag": "ABX9TyMpp6Jd+nIhmDWFt5ZHLBhn",
      "include_colab_link": true
    },
    "kernelspec": {
      "name": "python3",
      "display_name": "Python 3"
    },
    "language_info": {
      "name": "python"
    }
  },
  "cells": [
    {
      "cell_type": "markdown",
      "metadata": {
        "id": "view-in-github",
        "colab_type": "text"
      },
      "source": [
        "<a href=\"https://colab.research.google.com/github/Jeerusai9/python/blob/main/ri8_triangle_using_for_loop.ipynb\" target=\"_parent\"><img src=\"https://colab.research.google.com/assets/colab-badge.svg\" alt=\"Open In Colab\"/></a>"
      ]
    },
    {
      "cell_type": "code",
      "metadata": {
        "colab": {
          "base_uri": "https://localhost:8080/"
        },
        "id": "ie65rfhXsYT-",
        "outputId": "c7ed0cab-3207-4e21-afbb-cf960f75fe0b"
      },
      "source": [
        "height=int(input(\"height of the triangle=\"))\n",
        "for i in range (1,height+1):\n",
        "  print('*' *i)"
      ],
      "execution_count": 7,
      "outputs": [
        {
          "output_type": "stream",
          "name": "stdout",
          "text": [
            "height of the triangle=4\n",
            "*\n",
            "**\n",
            "***\n",
            "****\n"
          ]
        }
      ]
    }
  ]
}