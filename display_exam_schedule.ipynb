{
  "nbformat": 4,
  "nbformat_minor": 0,
  "metadata": {
    "colab": {
      "name": "display exam schedule",
      "provenance": [],
      "authorship_tag": "ABX9TyMPAXh7N12+d01D6D5y8KBe",
      "include_colab_link": true
    },
    "kernelspec": {
      "name": "python3",
      "display_name": "Python 3"
    },
    "language_info": {
      "name": "python"
    }
  },
  "cells": [
    {
      "cell_type": "markdown",
      "metadata": {
        "id": "view-in-github",
        "colab_type": "text"
      },
      "source": [
        "<a href=\"https://colab.research.google.com/github/Jeerusai9/python/blob/main/display_exam_schedule.ipynb\" target=\"_parent\"><img src=\"https://colab.research.google.com/assets/colab-badge.svg\" alt=\"Open In Colab\"/></a>"
      ]
    },
    {
      "cell_type": "code",
      "metadata": {
        "colab": {
          "base_uri": "https://localhost:8080/"
        },
        "id": "udRiHxt4JVF2",
        "outputId": "a57909b1-933a-461d-bd5f-6e267dbbb86f"
      },
      "source": [
        "exam_st_date= (25,11,2022)\n",
        "print(\"the examination will start from :%i / %i / %i\"%exam_st_date)"
      ],
      "execution_count": 2,
      "outputs": [
        {
          "output_type": "stream",
          "name": "stdout",
          "text": [
            "the examination will start from :25 / 11 / 2022\n"
          ]
        }
      ]
    }
  ]
}